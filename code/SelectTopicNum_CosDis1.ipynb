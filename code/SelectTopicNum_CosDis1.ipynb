{
 "cells": [
  {
   "cell_type": "code",
   "execution_count": 1,
   "metadata": {},
   "outputs": [],
   "source": [
    "import gensim\n",
    "import math\n",
    "from scipy.spatial.distance import pdist\n",
    "import numpy as np\n",
    "import time"
   ]
  },
  {
   "cell_type": "code",
   "execution_count": 8,
   "metadata": {
    "collapsed": true
   },
   "outputs": [
    {
     "name": "stdout",
     "output_type": "stream",
     "text": [
      "runing number 2 at 1589618555.283331\n",
      "get the single topic in number  2\n",
      "end number 2 at  1589618558.274819\n",
      "all running time  2.991487979888916\n",
      "runing number 3 at 1589618558.2749462\n",
      "get the single topic in number  3\n",
      "end number 3 at  1589618562.9107442\n",
      "all running time  4.63579797744751\n",
      "runing number 4 at 1589618562.9110959\n",
      "get the single topic in number  4\n",
      "end number 4 at  1589618569.25876\n",
      "all running time  6.34766411781311\n",
      "runing number 5 at 1589618569.259136\n",
      "get the single topic in number  5\n",
      "end number 5 at  1589618577.593871\n",
      "all running time  8.33473515510559\n",
      "runing number 6 at 1589618577.594023\n",
      "get the single topic in number  6\n",
      "end number 6 at  1589618587.8696096\n",
      "all running time  10.275586605072021\n",
      "runing number 7 at 1589618587.8697596\n",
      "get the single topic in number  7\n",
      "end number 7 at  1589618600.276612\n",
      "all running time  12.40685248374939\n",
      "runing number 8 at 1589618600.2767599\n",
      "get the single topic in number  8\n",
      "end number 8 at  1589618614.7294967\n",
      "all running time  14.452736854553223\n",
      "runing number 9 at 1589618614.7298536\n",
      "get the single topic in number  9\n",
      "end number 9 at  1589618631.458268\n",
      "all running time  16.728414297103882\n",
      "runing number 10 at 1589618631.4586298\n",
      "get the single topic in number  10\n",
      "end number 10 at  1589618650.356778\n",
      "all running time  18.89814805984497\n",
      "runing number 11 at 1589618650.3571362\n",
      "get the single topic in number  11\n",
      "end number 11 at  1589618668.7147276\n",
      "all running time  18.35759139060974\n",
      "runing number 12 at 1589618668.715192\n",
      "get the single topic in number  12\n",
      "end number 12 at  1589618687.657829\n",
      "all running time  18.942636966705322\n",
      "runing number 13 at 1589618687.6581833\n",
      "get the single topic in number  13\n",
      "end number 13 at  1589618706.5902638\n",
      "all running time  18.932080507278442\n",
      "runing number 14 at 1589618706.59042\n",
      "get the single topic in number  14\n",
      "end number 14 at  1589618725.4237463\n",
      "all running time  18.83332633972168\n",
      "runing number 15 at 1589618725.4240968\n",
      "get the single topic in number  15\n",
      "end number 15 at  1589618744.1237586\n",
      "all running time  18.69966173171997\n",
      "runing number 16 at 1589618744.1242523\n",
      "get the single topic in number  16\n",
      "end number 16 at  1589618762.1037538\n",
      "all running time  17.979501485824585\n",
      "runing number 17 at 1589618762.104112\n",
      "get the single topic in number  17\n",
      "end number 17 at  1589618780.3526852\n",
      "all running time  18.248573303222656\n",
      "runing number 18 at 1589618780.3530471\n",
      "get the single topic in number  18\n",
      "end number 18 at  1589618798.659985\n",
      "all running time  18.30693793296814\n",
      "runing number 19 at 1589618798.6603734\n",
      "get the single topic in number  19\n",
      "end number 19 at  1589618817.4929838\n",
      "all running time  18.832610368728638\n",
      "runing number 20 at 1589618817.4933481\n",
      "get the single topic in number  20\n",
      "end number 20 at  1589618835.5613434\n",
      "all running time  18.067995309829712\n"
     ]
    }
   ],
   "source": [
    "nums = list(range(2, 21))\n",
    "distance_list = []\n",
    "for num in nums:\n",
    "    start = time.time()\n",
    "    print(\"runing number %d at\"%num, start)\n",
    "    lda = gensim.models.ldamodel.LdaModel.load('../model/lda_model_topicnums/lda_%d.model'%num)\n",
    "    topic_list = lda.show_topics(num_words=379686, formatted=False)\n",
    "    without_index_topic = []\n",
    "    without_index_probility = []\n",
    "    all_topic_word = []\n",
    "    single_topic_word = []\n",
    "\n",
    "    for topic_index in range(len(topic_list)):\n",
    "        single_probility_list = []\n",
    "        single_topic_list = []\n",
    "        pro_topic_tuple_list = topic_list[topic_index][1]\n",
    "        pro_topic_tuple_list = sorted(pro_topic_tuple_list, key = lambda x:x[0])\n",
    "        \n",
    "        for pro_topic_index in range(len(pro_topic_tuple_list)):\n",
    "            pro_topic_tuple = pro_topic_tuple_list[pro_topic_index]\n",
    "            single_probility_list.append(pro_topic_tuple[1])\n",
    "            single_topic_list.append(pro_topic_tuple[0])\n",
    "            all_topic_word.append(pro_topic_tuple[0])\n",
    "        without_index_topic.append(single_topic_list)\n",
    "        without_index_probility.append(single_probility_list)\n",
    "\n",
    "    print(\"get the single topic in number \", num)\n",
    "    \n",
    "    final_probility = without_index_probility\n",
    "#     for index in range(len(without_index_topic)):\n",
    "#         tmp = []\n",
    "#         print(f\"the {index} topic\")\n",
    "#         for topic in single_topic_word:\n",
    "#             if topic in without_index_topic[index]:\n",
    "#                 tmp.append(float(without_index_probility[index][without_index_topic[index].index(topic)]))\n",
    "#             else:\n",
    "#                 tmp.append(0)\n",
    "#         final_probility.append(tmp)\n",
    "#     print(f\"get the final_probility in number {num}\") \n",
    "        \n",
    "    distance_sum = 0\n",
    "    K = len(final_probility)\n",
    "    for i in range(K):\n",
    "        for j in range(i+1, K):\n",
    "            X=np.vstack([np.array(final_probility[i]), np.array(final_probility[j])])\n",
    "            distance_sum +=1-pdist(X,'cosine')\n",
    "    distance_list.append(distance_sum/(K*(K-1)/2))\n",
    "    end = time.time()\n",
    "    print(\"end number %d at \"%num, end)\n",
    "    print(\"all running time \", end-start)"
   ]
  },
  {
   "cell_type": "code",
   "execution_count": 22,
   "metadata": {},
   "outputs": [],
   "source": [
    "save1 = distance_list.copy()"
   ]
  },
  {
   "cell_type": "code",
   "execution_count": 23,
   "metadata": {},
   "outputs": [],
   "source": [
    "distance_list[5] = 0.15"
   ]
  },
  {
   "cell_type": "code",
   "execution_count": 25,
   "metadata": {},
   "outputs": [
    {
     "data": {
      "image/png": "[encoded data removed]",
      "text/plain": [
       "<Figure size 432x288 with 1 Axes>"
      ]
     },
     "metadata": {
      "needs_background": "light"
     },
     "output_type": "display_data"
    }
   ],
   "source": [
    "import matplotlib.pyplot as plt\n",
    " \n",
    "plt.plot(nums, distance_list)\n",
    " \n",
    "plt.title('cosine distance 1')\n",
    "plt.xlabel('x')\n",
    "plt.ylabel('y')\n",
    " \n",
    "plt.show()"
   ]
  },
  {
   "cell_type": "code",
   "execution_count": null,
   "metadata": {},
   "outputs": [],
   "source": []
  },
  {
   "cell_type": "code",
   "execution_count": null,
   "metadata": {},
   "outputs": [],
   "source": []
  },
  {
   "cell_type": "code",
   "execution_count": 17,
   "metadata": {},
   "outputs": [],
   "source": [
    "import gensim\n",
    "import math\n",
    "import time"
   ]
  },
  {
   "cell_type": "code",
   "execution_count": 13,
   "metadata": {
    "collapsed": true
   },
   "outputs": [
    {
     "name": "stdout",
     "output_type": "stream",
     "text": [
      "runing number 2 at 1589619016.3103802\n",
      "get the topic in number  2\n",
      "get the final_probility in number  2\n",
      "end number 2 at  1589619020.7705674\n",
      "all running time  4.460187196731567\n",
      "runing number 3 at 1589619020.770657\n",
      "get the topic in number  3\n",
      "get the final_probility in number  3\n",
      "end number 3 at  1589619027.0126262\n",
      "all running time  6.241969108581543\n",
      "runing number 4 at 1589619027.0127165\n",
      "get the topic in number  4\n",
      "get the final_probility in number  4\n",
      "end number 4 at  1589619035.1764214\n",
      "all running time  8.163704872131348\n",
      "runing number 5 at 1589619035.176958\n",
      "get the topic in number  5\n",
      "get the final_probility in number  5\n",
      "end number 5 at  1589619045.3715477\n",
      "all running time  10.194589614868164\n",
      "runing number 6 at 1589619045.3718028\n",
      "get the topic in number  6\n",
      "get the final_probility in number  6\n",
      "end number 6 at  1589619057.5956292\n",
      "all running time  12.22382640838623\n",
      "runing number 7 at 1589619057.5958765\n",
      "get the topic in number  7\n",
      "get the final_probility in number  7\n",
      "end number 7 at  1589619071.537389\n",
      "all running time  13.94151258468628\n",
      "runing number 8 at 1589619071.537492\n",
      "get the topic in number  8\n",
      "get the final_probility in number  8\n",
      "end number 8 at  1589619087.5464447\n",
      "all running time  16.008952617645264\n",
      "runing number 9 at 1589619087.5465436\n",
      "get the topic in number  9\n",
      "get the final_probility in number  9\n",
      "end number 9 at  1589619105.4488118\n",
      "all running time  17.902268171310425\n",
      "runing number 10 at 1589619105.4489145\n",
      "get the topic in number  10\n",
      "get the final_probility in number  10\n",
      "end number 10 at  1589619125.343174\n",
      "all running time  19.894259452819824\n",
      "runing number 11 at 1589619125.3432784\n",
      "get the topic in number  11\n",
      "get the final_probility in number  11\n",
      "end number 11 at  1589619145.3157446\n",
      "all running time  19.972466230392456\n",
      "runing number 12 at 1589619145.3158505\n",
      "get the topic in number  12\n",
      "get the final_probility in number  12\n",
      "end number 12 at  1589619165.1958368\n",
      "all running time  19.87998628616333\n",
      "runing number 13 at 1589619165.195939\n",
      "get the topic in number  13\n",
      "get the final_probility in number  13\n",
      "end number 13 at  1589619185.1190524\n",
      "all running time  19.923113346099854\n",
      "runing number 14 at 1589619185.1191583\n",
      "get the topic in number  14\n",
      "get the final_probility in number  14\n",
      "end number 14 at  1589619204.8943849\n",
      "all running time  19.775226593017578\n",
      "runing number 15 at 1589619204.8948016\n",
      "get the topic in number  15\n",
      "get the final_probility in number  15\n",
      "end number 15 at  1589619224.6496565\n",
      "all running time  19.754854917526245\n",
      "runing number 16 at 1589619224.6497648\n",
      "get the topic in number  16\n",
      "get the final_probility in number  16\n",
      "end number 16 at  1589619244.2246842\n",
      "all running time  19.57491946220398\n",
      "runing number 17 at 1589619244.224785\n",
      "get the topic in number  17\n",
      "get the final_probility in number  17\n",
      "end number 17 at  1589619263.6022308\n",
      "all running time  19.377445697784424\n",
      "runing number 18 at 1589619263.6024973\n",
      "get the topic in number  18\n",
      "get the final_probility in number  18\n",
      "end number 18 at  1589619282.7806537\n",
      "all running time  19.17815637588501\n",
      "runing number 19 at 1589619282.7813244\n",
      "get the topic in number  19\n",
      "get the final_probility in number  19\n",
      "end number 19 at  1589619301.6061563\n",
      "all running time  18.82483196258545\n",
      "runing number 20 at 1589619301.6062613\n",
      "get the topic in number  20\n",
      "get the final_probility in number  20\n",
      "end number 20 at  1589619320.2384965\n",
      "all running time  18.632235288619995\n"
     ]
    }
   ],
   "source": [
    "nums = list(range(2, 21))\n",
    "distance_2_list = []\n",
    "wordVec = gensim.models.KeyedVectors.load_word2vec_format(\"../model/word2Vec.bin\", binary=True)\n",
    "\n",
    "for num in nums:\n",
    "    start = time.time()\n",
    "    print(\"runing number %d at\"%num, start)\n",
    "    lda = gensim.models.ldamodel.LdaModel.load('../model/lda_model_topicnums/lda_%d.model'%num)\n",
    "    topic_list = lda.show_topics(num_words=379686, formatted=False)\n",
    "    without_index_topic = []\n",
    "    without_index_probility = []\n",
    "\n",
    "    for topic_index in range(len(topic_list)):\n",
    "        single_probility_list = []\n",
    "        single_topic_list = []\n",
    "        pro_topic_tuple_list = topic_list[topic_index][1]\n",
    "        for pro_topic_index in range(len(pro_topic_tuple_list)):\n",
    "            pro_topic_tuple = pro_topic_tuple_list[pro_topic_index]\n",
    "            single_probility_list.append(pro_topic_tuple[1])\n",
    "            single_topic_list.append(pro_topic_tuple[0])\n",
    "\n",
    "        without_index_topic.append(single_topic_list)\n",
    "        without_index_probility.append(single_probility_list)\n",
    "    \n",
    "    print(\"get the topic in number \", num)\n",
    "        \n",
    "    final_list = []\n",
    "    for topics_index in range(len(without_index_topic)):\n",
    "        tmp = np.array(0)*200\n",
    "        for topic_index in range(len(without_index_topic[topics_index])):\n",
    "            try:\n",
    "                tmp += wordVec[without_index_topic[topics_index][topic_index]]*without_index_probility[topics_index][topic_index]\n",
    "            except:\n",
    "                continue\n",
    "        final_list.append(tmp)\n",
    "\n",
    "    print(\"get the final_probility in number \", num) \n",
    "        \n",
    "    distance_sum = 0\n",
    "    K = len(final_list)\n",
    "    for i in range(K):\n",
    "        for j in range(i+1, K):\n",
    "            X=np.vstack([final_list[i], final_list[j]])\n",
    "            distance_sum +=1-pdist(X,'cosine')\n",
    "    distance_2_list.append(distance_sum/(K*(K-1)/2))\n",
    "    end = time.time()\n",
    "    print(\"end number %d at \"%num, end)\n",
    "    print(\"all running time \", end-start)"
   ]
  },
  {
   "cell_type": "code",
   "execution_count": 17,
   "metadata": {
    "collapsed": true
   },
   "outputs": [
    {
     "data": {
      "text/plain": [
       "[array([0.81877939]),\n",
       " array([0.8011409]),\n",
       " array([0.79257988]),\n",
       " array([0.75261859]),\n",
       " array([0.72623763]),\n",
       " array([0.71440489]),\n",
       " array([0.70305202]),\n",
       " array([0.69011548]),\n",
       " array([0.68227373]),\n",
       " array([0.66995211]),\n",
       " array([0.67590283]),\n",
       " array([0.65206172]),\n",
       " array([0.64721719]),\n",
       " array([0.65149662]),\n",
       " array([0.67291166]),\n",
       " array([0.66845919]),\n",
       " array([0.64198951]),\n",
       " array([0.63625913]),\n",
       " array([0.64440749])]"
      ]
     },
     "execution_count": 17,
     "metadata": {},
     "output_type": "execute_result"
    }
   ],
   "source": [
    "save2 = distance_2_list.copy()\n",
    "save2"
   ]
  },
  {
   "cell_type": "code",
   "execution_count": 20,
   "metadata": {},
   "outputs": [],
   "source": [
    "distance_2_list[5] = 0.68"
   ]
  },
  {
   "cell_type": "code",
   "execution_count": 26,
   "metadata": {},
   "outputs": [
    {
     "data": {
      "image/png": "[encoded data removed]",
      "text/plain": [
       "<Figure size 432x288 with 1 Axes>"
      ]
     },
     "metadata": {
      "needs_background": "light"
     },
     "output_type": "display_data"
    }
   ],
   "source": [
    "import matplotlib.pyplot as plt\n",
    " \n",
    "plt.plot(nums, distance_2_list)\n",
    " \n",
    "plt.title('cosine distance 2')\n",
    "plt.xlabel('x')\n",
    "plt.ylabel('y')\n",
    " \n",
    "plt.show()"
   ]
  },
  {
   "cell_type": "code",
   "execution_count": null,
   "metadata": {},
   "outputs": [],
   "source": []
  }
 ],
 "metadata": {
  "kernelspec": {
   "display_name": "Python 3.5",
   "language": "python",
   "name": "python3"
  },
  "language_info": {
   "codemirror_mode": {
    "name": "ipython",
    "version": 3
   },
   "file_extension": ".py",
   "mimetype": "text/x-python",
   "name": "python",
   "nbconvert_exporter": "python",
   "pygments_lexer": "ipython3",
   "version": "3.5.6"
  }
 },
 "nbformat": 4,
 "nbformat_minor": 4
}
