{
 "cells": [
  {
   "cell_type": "code",
   "execution_count": 6,
   "metadata": {
    "scrolled": true
   },
   "outputs": [
    {
     "name": "stdout",
     "output_type": "stream",
     "text": [
      "get all data\n"
     ]
    }
   ],
   "source": [
    "#!/usr/bin/env python\n",
    "# coding: utf-8\n",
    "import pandas as pd\n",
    "import time\n",
    "from gensim import corpora\n",
    "import gensim\n",
    "\n",
    "data1 = pd.read_csv(\"../data/news_data/data_1.csv\", encoding=\"gbk\")\n",
    "data2 = pd.read_csv(\"../data/news_data/data_2.csv\", encoding=\"gbk\")\n",
    "data3 = pd.read_csv(\"../data/news_data/data_3.csv\", encoding=\"gbk\")\n",
    "data4 = pd.read_csv(\"../data/news_data/data_4.csv\", encoding=\"gbk\")\n",
    "\n",
    "all_data = pd.concat([data1, data2], ignore_index=True)\n",
    "all_data = pd.concat([all_data, data3], ignore_index=True)\n",
    "all_data = pd.concat([all_data, data4], ignore_index=True)\n",
    "\n",
    "all_data[\"content\"] = all_data.apply(lambda x: x[\"content\"].strip().split(\" \"), axis=1)\n",
    "texts = all_data[\"content\"].to_list()\n",
    "print(\"get all data\")\n",
    "\n",
    "# turn our tokenized documents into a id <-> term dictionary\n",
    "dictionary = corpora.Dictionary(texts)\n",
    "\n",
    "# convert tokenized documents into a document-term matrix\n",
    "corpus = [dictionary.doc2bow(text) for text in texts]\n"
   ]
  },
  {
   "cell_type": "code",
   "execution_count": 7,
   "metadata": {},
   "outputs": [
    {
     "name": "stdout",
     "output_type": "stream",
     "text": [
      "start to run 1!\n",
      "running time is  97.12597870826721\n",
      "start to run 2!\n",
      "running time is  185.45994400978088\n",
      "start to run 3!\n",
      "running time is  268.89323019981384\n",
      "start to run 4!\n",
      "running time is  350.1023669242859\n",
      "start to run 5!\n",
      "running time is  431.404066324234\n",
      "start to run 6!\n",
      "running time is  513.3615016937256\n",
      "start to run 7!\n",
      "running time is  595.5615620613098\n",
      "start to run 8!\n",
      "running time is  760.0901761054993\n",
      "start to run 10!\n",
      "running time is  842.5893757343292\n",
      "start to run 11!\n",
      "running time is  923.0382642745972\n",
      "start to run 12!\n",
      "running time is  1003.9249877929688\n",
      "start to run 13!\n",
      "running time is  1088.222119808197\n",
      "start to run 14!\n",
      "running time is  1168.9328634738922\n"
     ]
    }
   ],
   "source": [
    "passes = range(1,15)\n",
    "for passe in passes:\n",
    "    start = time.time()\n",
    "    print(\"start to run %d!\" % passe)\n",
    "    # generate LDA model\n",
    "    ldamodel_p = gensim.models.ldamodel.LdaModel(corpus=corpus, num_topics=8, id2word = dictionary,iterations = 200,passes = passe, random_state=1)\n",
    "    # random_state 等价于随机种子的random.seed()，使每次产生的主题一致\n",
    "    end = time.time()\n",
    "    ldamodel_p.save('../model/lda_model_passes/lda_%d.model' % passe)\n",
    "    print(\"running time is \", end-start)"
   ]
  },
  {
   "cell_type": "code",
   "execution_count": 17,
   "metadata": {},
   "outputs": [
    {
     "name": "stdout",
     "output_type": "stream",
     "text": [
      "start to run 50!\n",
      "running time is  513.4571871757507\n",
      "start to run 100!\n",
      "running time is  523.8894398212433\n",
      "start to run 150!\n",
      "running time is  522.793967962265\n",
      "start to run 200!\n",
      "running time is  518.8606684207916\n",
      "start to run 250!\n",
      "running time is  519.2990901470184\n",
      "start to run 300!\n",
      "running time is  523.1793825626373\n",
      "start to run 350!\n",
      "running time is  522.7032480239868\n",
      "start to run 400!\n",
      "running time is  521.8497860431671\n",
      "start to run 450!\n",
      "running time is  523.1207096576691\n",
      "start to run 500!\n",
      "running time is  523.5224807262421\n"
     ]
    }
   ],
   "source": [
    "iterations = range(50,501,50)\n",
    "for iteration in iterations:\n",
    "    start = time.time()\n",
    "    print(\"start to run %d!\" % iteration)\n",
    "    # generate LDA model\n",
    "    ldamodel_t = gensim.models.ldamodel.LdaModel(corpus=corpus, num_topics=8, id2word = dictionary,iterations = iteration,passes = 6,random_state=1)\n",
    "    # random_state 等价于随机种子的random.seed()，使每次产生的主题一致\n",
    "    end = time.time()\n",
    "    ldamodel_t.save('../model/lda_model_iterations/lda_%d.model' % iteration)\n",
    "    print(\"running time is \", end-start)"
   ]
  },
  {
   "cell_type": "code",
   "execution_count": 35,
   "metadata": {
    "scrolled": true
   },
   "outputs": [
    {
     "name": "stdout",
     "output_type": "stream",
     "text": [
      "start to run 10!\n",
      "running time is  374.85438442230225\n",
      "start to run 20!\n",
      "running time is  449.1801700592041\n",
      "start to run 30!\n",
      "running time is  487.67924880981445\n",
      "start to run 40!\n",
      "running time is  507.36988401412964\n",
      "start to run 50!\n",
      "running time is  513.1650953292847\n"
     ]
    }
   ],
   "source": [
    "iterations_2 = range(10,51,10)\n",
    "for iteration in iterations_2:\n",
    "    start = time.time()\n",
    "    print(\"start to run %d!\" % iteration)\n",
    "    # generate LDA model\n",
    "    ldamodel_t = gensim.models.ldamodel.LdaModel(corpus=corpus, num_topics=8, id2word = dictionary,iterations = iteration,passes = 6,random_state=1)\n",
    "    # random_state 等价于随机种子的random.seed()，使每次产生的主题一致\n",
    "    end = time.time()\n",
    "    ldamodel_t.save('../model/lda_model_iterations/lda_%d.model' % iteration)\n",
    "    print(\"running time is \", end-start)"
   ]
  },
  {
   "cell_type": "code",
   "execution_count": 39,
   "metadata": {},
   "outputs": [
    {
     "name": "stdout",
     "output_type": "stream",
     "text": [
      "start to run 1!\n",
      "running time is  171.4447386264801\n",
      "start to run 2!\n",
      "running time is  370.6476390361786\n",
      "start to run 3!\n",
      "running time is  435.02630853652954\n",
      "start to run 4!\n",
      "running time is  462.8616290092468\n",
      "start to run 5!\n",
      "running time is  471.9992687702179\n",
      "start to run 6!\n",
      "running time is  493.3192648887634\n",
      "start to run 7!\n",
      "running time is  511.7531142234802\n",
      "start to run 8!\n",
      "running time is  515.4442136287689\n",
      "start to run 9!\n",
      "running time is  544.92409324646\n",
      "start to run 10!\n",
      "running time is  567.4292943477631\n",
      "start to run 11!\n",
      "running time is  588.9216375350952\n",
      "start to run 12!\n",
      "running time is  603.6714091300964\n",
      "start to run 13!\n",
      "running time is  632.8118510246277\n",
      "start to run 14!\n",
      "running time is  648.6602523326874\n",
      "start to run 15!\n",
      "running time is  672.268449306488\n",
      "start to run 16!\n",
      "running time is  679.9521870613098\n",
      "start to run 17!\n",
      "running time is  707.2871878147125\n",
      "start to run 18!\n",
      "running time is  722.741730928421\n",
      "start to run 19!\n",
      "running time is  739.8101170063019\n",
      "start to run 20!\n",
      "running time is  759.8450627326965\n"
     ]
    }
   ],
   "source": [
    "nums = range(1,21)\n",
    "for num in nums:\n",
    "    start = time.time()\n",
    "    print(\"start to run %d!\" % num)\n",
    "    # generate LDA model\n",
    "    ldamodel_t = gensim.models.ldamodel.LdaModel(corpus=corpus, num_topics=num, id2word = dictionary,iterations = 50,passes = 6,random_state=1)\n",
    "    # random_state 等价于随机种子的random.seed()，使每次产生的主题一致\n",
    "    end = time.time()\n",
    "    ldamodel_t.save('../model/lda_model_topicnums/lda_%d.model' % num)\n",
    "    print(\"running time is \", end-start)"
   ]
  },
  {
   "cell_type": "code",
   "execution_count": null,
   "metadata": {},
   "outputs": [],
   "source": []
  },
  {
   "cell_type": "code",
   "execution_count": null,
   "metadata": {},
   "outputs": [],
   "source": []
  },
  {
   "cell_type": "code",
   "execution_count": null,
   "metadata": {},
   "outputs": [],
   "source": []
  },
  {
   "cell_type": "code",
   "execution_count": 9,
   "metadata": {},
   "outputs": [],
   "source": [
    "def perplexity(ldamodel, testset, dictionary, size_dictionary, num_topics):\n",
    "    \"\"\"calculate the perplexity of a lda-model\"\"\"\n",
    "    # dictionary : {7822:'deferment', 1841:'circuitry',19202:'fabianism'...]\n",
    "    print ('the info of this ldamodel: \\n')\n",
    "    print ('num of testset: %s; size_dictionary: %s; num of topics: %s'%(len(testset), size_dictionary, num_topics))\n",
    "    prep = 0.0\n",
    "    prob_doc_sum = 0.0\n",
    "    topic_word_list = [] # store the probablity of topic-word:[(u'business', 0.010020942661849608),(u'family', 0.0088027946271537413)...]\n",
    "    for topic_id in range(num_topics):\n",
    "        topic_word = ldamodel.show_topic(topic_id, size_dictionary)\n",
    "        dic = {}\n",
    "        for word, probability in topic_word:\n",
    "            dic[word] = probability\n",
    "        topic_word_list.append(dic)\n",
    "    doc_topics_ist = [] #store the doc-topic tuples:[(0, 0.0006211180124223594),(1, 0.0006211180124223594),...]\n",
    "    for doc in testset:\n",
    "        doc_topics_ist.append(ldamodel.get_document_topics(doc, minimum_probability=0))\n",
    "    testset_word_num = 0\n",
    "    for i in range(len(testset)):\n",
    "        prob_doc = 0.0 # the probablity of the doc\n",
    "        doc = testset[i]\n",
    "        doc_word_num = 0 # the num of words in the doc\n",
    "        for word_id, num in doc:\n",
    "            prob_word = 0.0 # the probablity of the word \n",
    "            doc_word_num += num\n",
    "            word = dictionary[word_id]\n",
    "            for topic_id in range(num_topics):\n",
    "                # cal p(w) : p(w) = sumz(p(z)*p(w|z))\n",
    "                prob_topic = doc_topics_ist[i][topic_id][1]\n",
    "                prob_topic_word = topic_word_list[topic_id][word]\n",
    "                prob_word += prob_topic*prob_topic_word\n",
    "            prob_doc += math.log(prob_word) # p(d) = sum(log(p(w)))\n",
    "        prob_doc_sum += prob_doc\n",
    "        testset_word_num += doc_word_num\n",
    "    prep = math.exp(-prob_doc_sum/testset_word_num) # perplexity = exp(-sum(p(d)/sum(Nd))\n",
    "    print (\"the perplexity of this ldamodel is : %s\"%prep)\n",
    "    return prep"
   ]
  },
  {
   "cell_type": "code",
   "execution_count": 56,
   "metadata": {},
   "outputs": [],
   "source": [
    "def graph_topic_draw(topic, perplexity):  # 做主题数与困惑度的折线图\n",
    "    x = topic\n",
    "    y = perplexity\n",
    "    plt.plot(x, y, linewidth=2)\n",
    "    plt.xlabel(\"Number of Topic\")\n",
    "    plt.ylabel(\"Perplexity\")\n",
    "    plt.show()"
   ]
  },
  {
   "cell_type": "code",
   "execution_count": 57,
   "metadata": {},
   "outputs": [],
   "source": [
    "def graph_passes_draw(passes, perplexity):  # 做passes与困惑度的折线图\n",
    "    x = passes\n",
    "    y = perplexity\n",
    "    plt.plot(x, y, linewidth=2)\n",
    "    plt.xlabel(\"Number of Passes\")\n",
    "    plt.ylabel(\"Perplexity\")\n",
    "    plt.show()"
   ]
  },
  {
   "cell_type": "code",
   "execution_count": 73,
   "metadata": {},
   "outputs": [],
   "source": [
    "def graph_iterations_draw(iterations, perplexity):  # 做passes与困惑度的折线图\n",
    "    x = iterations\n",
    "    y = perplexity\n",
    "    plt.plot(x, y, linewidth=2)\n",
    "    plt.title(\"Different iterations number\")\n",
    "    plt.xlabel(\"Number of Iterations\")\n",
    "    plt.ylabel(\"Perplexity\")\n",
    "    plt.show()"
   ]
  },
  {
   "cell_type": "code",
   "execution_count": 59,
   "metadata": {},
   "outputs": [],
   "source": [
    "def graph_numtopics_draw(nums, perplexity):  # 做passes与困惑度的折线图\n",
    "    x = nums\n",
    "    y = perplexity\n",
    "    plt.plot(x, y, linewidth=2)\n",
    "    plt.xlabel(\"Number of Topics\")\n",
    "    plt.ylabel(\"Perplexity\")\n",
    "    plt.show()"
   ]
  },
  {
   "cell_type": "code",
   "execution_count": 25,
   "metadata": {
    "collapsed": true
   },
   "outputs": [
    {
     "name": "stdout",
     "output_type": "stream",
     "text": [
      "the info of this ldamodel: \n",
      "\n",
      "num of testset: 906; size_dictionary: 379686; num of topics: 8\n",
      "the perplexity of this ldamodel is : 325.23312982922323\n",
      "the info of this ldamodel: \n",
      "\n",
      "num of testset: 906; size_dictionary: 379686; num of topics: 8\n",
      "the perplexity of this ldamodel is : 320.8074935075644\n",
      "the info of this ldamodel: \n",
      "\n",
      "num of testset: 906; size_dictionary: 379686; num of topics: 8\n",
      "the perplexity of this ldamodel is : 319.81717233074244\n",
      "the info of this ldamodel: \n",
      "\n",
      "num of testset: 906; size_dictionary: 379686; num of topics: 8\n",
      "the perplexity of this ldamodel is : 319.2626132019115\n",
      "the info of this ldamodel: \n",
      "\n",
      "num of testset: 906; size_dictionary: 379686; num of topics: 8\n",
      "the perplexity of this ldamodel is : 318.9715930446686\n",
      "the info of this ldamodel: \n",
      "\n",
      "num of testset: 906; size_dictionary: 379686; num of topics: 8\n",
      "the perplexity of this ldamodel is : 318.7746911740101\n",
      "the info of this ldamodel: \n",
      "\n",
      "num of testset: 906; size_dictionary: 379686; num of topics: 8\n",
      "the perplexity of this ldamodel is : 318.6249176409053\n",
      "the info of this ldamodel: \n",
      "\n",
      "num of testset: 906; size_dictionary: 379686; num of topics: 8\n",
      "the perplexity of this ldamodel is : 318.4852292860017\n",
      "the info of this ldamodel: \n",
      "\n",
      "num of testset: 906; size_dictionary: 379686; num of topics: 8\n",
      "the perplexity of this ldamodel is : 318.3599639803794\n",
      "the info of this ldamodel: \n",
      "\n",
      "num of testset: 906; size_dictionary: 379686; num of topics: 8\n",
      "the perplexity of this ldamodel is : 318.26289782278604\n",
      "the info of this ldamodel: \n",
      "\n",
      "num of testset: 906; size_dictionary: 379686; num of topics: 8\n",
      "the perplexity of this ldamodel is : 318.14623359431226\n",
      "the info of this ldamodel: \n",
      "\n",
      "num of testset: 906; size_dictionary: 379686; num of topics: 8\n",
      "the perplexity of this ldamodel is : 318.01481616083606\n",
      "the info of this ldamodel: \n",
      "\n",
      "num of testset: 906; size_dictionary: 379686; num of topics: 8\n",
      "the perplexity of this ldamodel is : 317.9076403273505\n",
      "the info of this ldamodel: \n",
      "\n",
      "num of testset: 906; size_dictionary: 379686; num of topics: 8\n",
      "the perplexity of this ldamodel is : 317.78657513785805\n"
     ]
    }
   ],
   "source": [
    "import math\n",
    "passes = list(range(1, 15)) # passes个数对困惑度影响\n",
    "p=[]\n",
    "for passe in passes:\n",
    "#     print(f\"runing number {num} at {start}\")\n",
    "    lda = gensim.models.ldamodel.LdaModel.load('../model/lda_model_passes/lda_%d.model' % passe)\n",
    "    corpus = corpora.MmCorpus('corpus.mm')\n",
    "#     print(\"corpus:\",corpus)\n",
    "#     print(\"corpus.num_docs:\",corpus.num_docs)\n",
    "    testset = []\n",
    "    for c in range(int(corpus.num_docs/100)):  # 如何抽取训练集\n",
    "#         print(corpus[c*5])\n",
    "        testset.append(corpus[c*100])\n",
    "#     print(testset)\n",
    "    prep = perplexity(lda, testset, dictionary, len(dictionary.keys()), 8)\n",
    "    p.append(prep)"
   ]
  },
  {
   "cell_type": "code",
   "execution_count": 55,
   "metadata": {
    "collapsed": true
   },
   "outputs": [
    {
     "data": {
      "image/png": "[encoded data removed]",
      "text/plain": [
       "<Figure size 432x288 with 1 Axes>"
      ]
     },
     "metadata": {
      "needs_background": "light"
     },
     "output_type": "display_data"
    }
   ],
   "source": [
    "import matplotlib.pyplot as plt\n",
    "graph_passes_draw(passes,p)"
   ]
  },
  {
   "cell_type": "code",
   "execution_count": 69,
   "metadata": {},
   "outputs": [
    {
     "name": "stdout",
     "output_type": "stream",
     "text": [
      "the info of this ldamodel: \n",
      "\n",
      "num of testset: 906; size_dictionary: 379686; num of topics: 8\n",
      "the perplexity of this ldamodel is : 308.22469222367204\n",
      "the info of this ldamodel: \n",
      "\n",
      "num of testset: 906; size_dictionary: 379686; num of topics: 8\n",
      "the perplexity of this ldamodel is : 312.4147143645221\n",
      "the info of this ldamodel: \n",
      "\n",
      "num of testset: 906; size_dictionary: 379686; num of topics: 8\n",
      "the perplexity of this ldamodel is : 316.0126633243379\n",
      "the info of this ldamodel: \n",
      "\n",
      "num of testset: 906; size_dictionary: 379686; num of topics: 8\n",
      "the perplexity of this ldamodel is : 318.7746911740101\n",
      "the info of this ldamodel: \n",
      "\n",
      "num of testset: 906; size_dictionary: 379686; num of topics: 8\n",
      "the perplexity of this ldamodel is : 320.9132090921532\n",
      "the info of this ldamodel: \n",
      "\n",
      "num of testset: 906; size_dictionary: 379686; num of topics: 8\n",
      "the perplexity of this ldamodel is : 324.7712218502303\n",
      "the info of this ldamodel: \n",
      "\n",
      "num of testset: 906; size_dictionary: 379686; num of topics: 8\n",
      "the perplexity of this ldamodel is : 325.7572708775737\n",
      "the info of this ldamodel: \n",
      "\n",
      "num of testset: 906; size_dictionary: 379686; num of topics: 8\n",
      "the perplexity of this ldamodel is : 326.7906851589947\n",
      "the info of this ldamodel: \n",
      "\n",
      "num of testset: 906; size_dictionary: 379686; num of topics: 8\n",
      "the perplexity of this ldamodel is : 327.3306661905077\n",
      "the info of this ldamodel: \n",
      "\n",
      "num of testset: 906; size_dictionary: 379686; num of topics: 8\n",
      "the perplexity of this ldamodel is : 327.55745509313886\n"
     ]
    }
   ],
   "source": [
    "iterations = list(range(50, 501,50)) # iterations对困惑度影响\n",
    "i=[]\n",
    "for iteration in iterations:\n",
    "#     print(f\"runing number {num} at {start}\")\n",
    "    lda = gensim.models.ldamodel.LdaModel.load('../model/lda_model_iterations/lda_%d.model' % iteration)\n",
    "    corpus = corpora.MmCorpus('corpus.mm')\n",
    "#     print(\"corpus:\",corpus)\n",
    "#     print(\"corpus.num_docs:\",corpus.num_docs)\n",
    "    testset = []\n",
    "    for c in range(int(corpus.num_docs/100)):  # 如何抽取训练集\n",
    "#         print(corpus[c*5])\n",
    "        testset.append(corpus[c*100])\n",
    "#     print(testset)\n",
    "    prep = perplexity(lda, testset, dictionary, len(dictionary.keys()), 8)\n",
    "    i.append(prep)"
   ]
  },
  {
   "cell_type": "code",
   "execution_count": 70,
   "metadata": {},
   "outputs": [
    {
     "name": "stdout",
     "output_type": "stream",
     "text": [
      "the info of this ldamodel: \n",
      "\n",
      "num of testset: 906; size_dictionary: 379686; num of topics: 8\n",
      "the perplexity of this ldamodel is : 305.22954673994843\n",
      "the info of this ldamodel: \n",
      "\n",
      "num of testset: 906; size_dictionary: 379686; num of topics: 8\n",
      "the perplexity of this ldamodel is : 307.3763835033093\n",
      "the info of this ldamodel: \n",
      "\n",
      "num of testset: 906; size_dictionary: 379686; num of topics: 8\n",
      "the perplexity of this ldamodel is : 309.5866074844475\n",
      "the info of this ldamodel: \n",
      "\n",
      "num of testset: 906; size_dictionary: 379686; num of topics: 8\n",
      "the perplexity of this ldamodel is : 310.05317629331677\n",
      "the info of this ldamodel: \n",
      "\n",
      "num of testset: 906; size_dictionary: 379686; num of topics: 8\n",
      "the perplexity of this ldamodel is : 308.22469222367204\n"
     ]
    }
   ],
   "source": [
    "iterations_2 = list(range(10, 51,10)) # iterations对困惑度影响\n",
    "i_2=[]\n",
    "for iteration in iterations_2:\n",
    "#     print(f\"runing number {num} at {start}\")\n",
    "    lda = gensim.models.ldamodel.LdaModel.load('../model/lda_model_iterations/lda_%d.model' % iteration)\n",
    "    corpus = corpora.MmCorpus('corpus.mm')\n",
    "#     print(\"corpus:\",corpus)\n",
    "#     print(\"corpus.num_docs:\",corpus.num_docs)\n",
    "    testset = []\n",
    "    for c in range(int(corpus.num_docs/100)):  # 如何抽取训练集\n",
    "#         print(corpus[c*5])\n",
    "        testset.append(corpus[c*100])\n",
    "#     print(testset)\n",
    "    prep = perplexity(lda, testset, dictionary, len(dictionary.keys()), 8)\n",
    "    i_2.append(prep)"
   ]
  },
  {
   "cell_type": "code",
   "execution_count": 71,
   "metadata": {},
   "outputs": [
    {
     "name": "stdout",
     "output_type": "stream",
     "text": [
      "[310.05317629331677, 308.22469222367204, 312.4147143645221, 316.0126633243379, 318.7746911740101]\n"
     ]
    }
   ],
   "source": [
    "total_iterations = [40] + list(range(50, 201,50))\n",
    "total_i = [i_2[-2]] + i[0:4]\n",
    "print(total_i)"
   ]
  },
  {
   "cell_type": "code",
   "execution_count": 74,
   "metadata": {},
   "outputs": [
    {
     "data": {
      "image/png": "[encoded data removed]",
      "text/plain": [
       "<Figure size 432x288 with 1 Axes>"
      ]
     },
     "metadata": {
      "needs_background": "light"
     },
     "output_type": "display_data"
    }
   ],
   "source": [
    "graph_iterations_draw(total_iterations,total_i)"
   ]
  },
  {
   "cell_type": "code",
   "execution_count": 43,
   "metadata": {
    "collapsed": true
   },
   "outputs": [
    {
     "name": "stdout",
     "output_type": "stream",
     "text": [
      "the info of this ldamodel: \n",
      "\n",
      "num of testset: 906; size_dictionary: 379686; num of topics: 1\n",
      "the perplexity of this ldamodel is : 385.9007852949785\n",
      "the info of this ldamodel: \n",
      "\n",
      "num of testset: 906; size_dictionary: 379686; num of topics: 2\n",
      "the perplexity of this ldamodel is : 349.65668116457044\n",
      "the info of this ldamodel: \n",
      "\n",
      "num of testset: 906; size_dictionary: 379686; num of topics: 3\n",
      "the perplexity of this ldamodel is : 330.96514380140235\n",
      "the info of this ldamodel: \n",
      "\n",
      "num of testset: 906; size_dictionary: 379686; num of topics: 4\n",
      "the perplexity of this ldamodel is : 319.37014757230514\n",
      "the info of this ldamodel: \n",
      "\n",
      "num of testset: 906; size_dictionary: 379686; num of topics: 5\n",
      "the perplexity of this ldamodel is : 310.5965466314383\n",
      "the info of this ldamodel: \n",
      "\n",
      "num of testset: 906; size_dictionary: 379686; num of topics: 6\n",
      "the perplexity of this ldamodel is : 307.21358800843603\n",
      "the info of this ldamodel: \n",
      "\n",
      "num of testset: 906; size_dictionary: 379686; num of topics: 7\n",
      "the perplexity of this ldamodel is : 305.8690088418186\n",
      "the info of this ldamodel: \n",
      "\n",
      "num of testset: 906; size_dictionary: 379686; num of topics: 8\n",
      "the perplexity of this ldamodel is : 308.22469222367204\n",
      "the info of this ldamodel: \n",
      "\n",
      "num of testset: 906; size_dictionary: 379686; num of topics: 9\n",
      "the perplexity of this ldamodel is : 312.9409104772561\n",
      "the info of this ldamodel: \n",
      "\n",
      "num of testset: 906; size_dictionary: 379686; num of topics: 10\n",
      "the perplexity of this ldamodel is : 325.3410346171837\n",
      "the info of this ldamodel: \n",
      "\n",
      "num of testset: 906; size_dictionary: 379686; num of topics: 11\n",
      "the perplexity of this ldamodel is : 332.6984836714326\n",
      "the info of this ldamodel: \n",
      "\n",
      "num of testset: 906; size_dictionary: 379686; num of topics: 12\n",
      "the perplexity of this ldamodel is : 336.19337580283883\n",
      "the info of this ldamodel: \n",
      "\n",
      "num of testset: 906; size_dictionary: 379686; num of topics: 13\n",
      "the perplexity of this ldamodel is : 340.49891413440906\n",
      "the info of this ldamodel: \n",
      "\n",
      "num of testset: 906; size_dictionary: 379686; num of topics: 14\n",
      "the perplexity of this ldamodel is : 343.54205560255565\n",
      "the info of this ldamodel: \n",
      "\n",
      "num of testset: 906; size_dictionary: 379686; num of topics: 15\n",
      "the perplexity of this ldamodel is : 347.12267912445293\n",
      "the info of this ldamodel: \n",
      "\n",
      "num of testset: 906; size_dictionary: 379686; num of topics: 16\n",
      "the perplexity of this ldamodel is : 346.8421678799656\n",
      "the info of this ldamodel: \n",
      "\n",
      "num of testset: 906; size_dictionary: 379686; num of topics: 17\n",
      "the perplexity of this ldamodel is : 351.67326639949215\n",
      "the info of this ldamodel: \n",
      "\n",
      "num of testset: 906; size_dictionary: 379686; num of topics: 18\n",
      "the perplexity of this ldamodel is : 354.0318660128762\n",
      "the info of this ldamodel: \n",
      "\n",
      "num of testset: 906; size_dictionary: 379686; num of topics: 19\n",
      "the perplexity of this ldamodel is : 353.50985322469427\n",
      "the info of this ldamodel: \n",
      "\n",
      "num of testset: 906; size_dictionary: 379686; num of topics: 20\n",
      "the perplexity of this ldamodel is : 352.99088704540486\n"
     ]
    }
   ],
   "source": [
    "nums = list(range(1, 21)) # iterations对困惑度影响\n",
    "n=[]\n",
    "for num in nums:\n",
    "#     print(f\"runing number {num} at {start}\")\n",
    "    lda = gensim.models.ldamodel.LdaModel.load('../model/lda_model_topicnums/lda_%d.model' % num)\n",
    "    corpus = corpora.MmCorpus('corpus.mm')\n",
    "#     print(\"corpus:\",corpus)\n",
    "#     print(\"corpus.num_docs:\",corpus.num_docs)\n",
    "    testset = []\n",
    "    for c in range(int(corpus.num_docs/100)):  # 如何抽取训练集\n",
    "#         print(corpus[c*5])\n",
    "        testset.append(corpus[c*100])\n",
    "#     print(testset)\n",
    "    prep = perplexity(lda, testset, dictionary, len(dictionary.keys()), num)\n",
    "    n.append(prep)"
   ]
  },
  {
   "cell_type": "code",
   "execution_count": 50,
   "metadata": {
    "scrolled": true
   },
   "outputs": [
    {
     "data": {
      "image/png": "[encoded data removed]",
      "text/plain": [
       "<Figure size 432x288 with 1 Axes>"
      ]
     },
     "metadata": {
      "needs_background": "light"
     },
     "output_type": "display_data"
    }
   ],
   "source": [
    "graph_iterations_draw(iterations,i)"
   ]
  },
  {
   "cell_type": "code",
   "execution_count": 51,
   "metadata": {
    "scrolled": true
   },
   "outputs": [
    {
     "data": {
      "image/png": "[encoded data removed]",
      "text/plain": [
       "<Figure size 432x288 with 1 Axes>"
      ]
     },
     "metadata": {
      "needs_background": "light"
     },
     "output_type": "display_data"
    }
   ],
   "source": [
    "graph_iterations_draw(iterations_2,i_2)"
   ]
  },
  {
   "cell_type": "code",
   "execution_count": 52,
   "metadata": {
    "scrolled": true
   },
   "outputs": [
    {
     "data": {
      "image/png": "[encoded data removed]",
      "text/plain": [
       "<Figure size 432x288 with 1 Axes>"
      ]
     },
     "metadata": {
      "needs_background": "light"
     },
     "output_type": "display_data"
    }
   ],
   "source": [
    "graph_numtopics_draw(nums,n)"
   ]
  },
  {
   "cell_type": "code",
   "execution_count": null,
   "metadata": {},
   "outputs": [],
   "source": []
  }
 ],
 "metadata": {
  "kernelspec": {
   "display_name": "Python 3.5",
   "language": "python",
   "name": "python3"
  },
  "language_info": {
   "codemirror_mode": {
    "name": "ipython",
    "version": 3
   },
   "file_extension": ".py",
   "mimetype": "text/x-python",
   "name": "python",
   "nbconvert_exporter": "python",
   "pygments_lexer": "ipython3",
   "version": "3.5.6"
  }
 },
 "nbformat": 4,
 "nbformat_minor": 4
}
