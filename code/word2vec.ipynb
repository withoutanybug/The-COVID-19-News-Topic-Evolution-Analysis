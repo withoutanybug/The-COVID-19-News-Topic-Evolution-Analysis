{
 "cells": [
  {
   "cell_type": "code",
   "execution_count": 1,
   "metadata": {},
   "outputs": [],
   "source": [
    "import warnings\n",
    "import gensim\n",
    "import pandas as pd\n",
    "from gensim.models import word2vec\n",
    "\n",
    "# ignore warning\n",
    "warnings.filterwarnings(action='ignore', category=UserWarning, module='gensim')"
   ]
  },
  {
   "cell_type": "code",
   "execution_count": 2,
   "metadata": {},
   "outputs": [],
   "source": [
    "data1 = pd.read_csv(\"../data/news_data/data_1.csv\", encoding=\"gbk\")\n",
    "data2 = pd.read_csv(\"../data/news_data/data_2.csv\", encoding=\"gbk\")\n",
    "data3 = pd.read_csv(\"../data/news_data/data_3.csv\", encoding=\"gbk\")\n",
    "data4 = pd.read_csv(\"../data/news_data/data_4.csv\", encoding=\"gbk\")\n",
    "\n",
    "all_data = pd.concat([data1, data2], ignore_index=True)\n",
    "all_data = pd.concat([all_data, data3], ignore_index=True)\n",
    "all_data = pd.concat([all_data, data4], ignore_index=True)\n",
    "\n",
    "texts = all_data[\"content\"].to_list()\n",
    "\n",
    "with open('../data/word2vec_data.txt', 'w', encoding=\"utf-8\") as f:\n",
    "    for i in range(len(texts)):\n",
    "        f.write(texts[i] + \"\\r\")\n",
    "\n",
    "f.close()"
   ]
  },
  {
   "cell_type": "code",
   "execution_count": 3,
   "metadata": {},
   "outputs": [],
   "source": [
    "sentences = word2vec.LineSentence(\"../data/word2vec_data.txt\")"
   ]
  },
  {
   "cell_type": "code",
   "execution_count": 4,
   "metadata": {},
   "outputs": [],
   "source": [
    "### train model\n",
    "model = gensim.models.Word2Vec(sentences, size=200, sg=1, iter=200)"
   ]
  },
  {
   "cell_type": "code",
   "execution_count": 5,
   "metadata": {},
   "outputs": [],
   "source": [
    "### write into model\n",
    "model.wv.save_word2vec_format(\"../model/word2Vec\" + \".bin\", binary=True)"
   ]
  },
  {
   "cell_type": "code",
   "execution_count": 6,
   "metadata": {},
   "outputs": [],
   "source": [
    "wordVec = gensim.models.KeyedVectors.load_word2vec_format(\"../model/word2Vec.bin\", binary=True)"
   ]
  },
  {
   "cell_type": "code",
   "execution_count": null,
   "metadata": {},
   "outputs": [],
   "source": []
  }
 ],
 "metadata": {
  "kernelspec": {
   "display_name": "Python 3.5",
   "language": "python",
   "name": "python3"
  },
  "language_info": {
   "codemirror_mode": {
    "name": "ipython",
    "version": 3
   },
   "file_extension": ".py",
   "mimetype": "text/x-python",
   "name": "python",
   "nbconvert_exporter": "python",
   "pygments_lexer": "ipython3",
   "version": "3.5.6"
  }
 },
 "nbformat": 4,
 "nbformat_minor": 4
}
